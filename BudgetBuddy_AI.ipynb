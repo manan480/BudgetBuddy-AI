{
 "cells": [
  {
   "cell_type": "code",
   "execution_count": 2,
   "id": "1fdb0132-11e9-4f6d-b075-9223928f0ab0",
   "metadata": {},
   "outputs": [
    {
     "name": "stdout",
     "output_type": "stream",
     "text": [
      " Hello! I’m BudgetBuddy.AI – your friendly event planning assistant.\n",
      "I’ll help you estimate the cost of your event and even try to negotiate with vendors for better deals!\n",
      "\n"
     ]
    },
    {
     "name": "stdin",
     "output_type": "stream",
     "text": [
      " What type of event are you planning? (e.g., wedding, birthday, corporate):  wedding\n",
      " How many guests are coming?:  30\n",
      " What services do you need? (e.g., catering, decoration, dj):  dj\n",
      " What’s your total budget (in ₹)?:  10000\n"
     ]
    },
    {
     "name": "stdout",
     "output_type": "stream",
     "text": [
      "\n",
      " Let’s calculate the estimated cost for your event...\n",
      "\n",
      " Dj by BeatDrop DJs will cost: ₹15000\n",
      "\n",
      " Total Estimated Cost: ₹15000\n",
      " Your Budget: ₹10000\n",
      "\n",
      " Oh no! Looks like the cost is higher than your budget.\n"
     ]
    },
    {
     "name": "stdin",
     "output_type": "stream",
     "text": [
      "Would you like me to try negotiating with the vendors? (yes/no):  yes\n"
     ]
    },
    {
     "name": "stdout",
     "output_type": "stream",
     "text": [
      "\n",
      " Negotiating with vendors... please wait...\n",
      "\n",
      " Dj by BeatDrop DJs after negotiation: ₹12000\n",
      "\n",
      " Negotiated Total Cost: ₹12000\n",
      " Sorry! Even after negotiation, it’s still over budget. We tried our best \n"
     ]
    }
   ],
   "source": [
    "# Welcome to BudgetBuddy.AI \n",
    "# An event cost estimator and negotiation helper made just for YOU!\n",
    "\n",
    "print(\" Hello! I’m BudgetBuddy.AI – your friendly event planning assistant.\")\n",
    "print(\"I’ll help you estimate the cost of your event and even try to negotiate with vendors for better deals!\\n\")\n",
    "\n",
    "#  Step 1: Mock Vendor Data (Fake but realistic)\n",
    "vendors = {\n",
    "    \"catering\": {\n",
    "        \"name\": \"SpiceCaterers\",\n",
    "        \"price_per_guest\": 500,\n",
    "        \"min_price_per_guest\": 450\n",
    "    },\n",
    "    \"decoration\": {\n",
    "        \"name\": \"FloralDesigns\",\n",
    "        \"fixed_price\": 30000,\n",
    "        \"min_price\": 25000\n",
    "    },\n",
    "    \"dj\": {\n",
    "        \"name\": \"BeatDrop DJs\",\n",
    "        \"fixed_price\": 15000,\n",
    "        \"min_price\": 12000\n",
    "    }\n",
    "}\n",
    "\n",
    "#  Step 2: Get Event Details from User\n",
    "event_type = input(\" What type of event are you planning? (e.g., wedding, birthday, corporate): \")\n",
    "guests = int(input(\" How many guests are coming?: \"))\n",
    "services_input = input(\" What services do you need? (e.g., catering, decoration, dj): \")\n",
    "services_needed = [s.strip().lower() for s in services_input.split(\",\")]\n",
    "your_budget = int(input(\" What’s your total budget (in ₹)?: \"))\n",
    "\n",
    "#  Step 3: Estimate the Total Event Cost\n",
    "print(\"\\n Let’s calculate the estimated cost for your event...\\n\")\n",
    "\n",
    "estimated_cost = 0\n",
    "breakdown = {}\n",
    "\n",
    "for service in services_needed:\n",
    "    if service in vendors:\n",
    "        vendor = vendors[service]\n",
    "        if service == \"catering\":\n",
    "            cost = vendor[\"price_per_guest\"] * guests\n",
    "        else:\n",
    "            cost = vendor[\"fixed_price\"]\n",
    "        estimated_cost += cost\n",
    "        breakdown[service] = cost\n",
    "        print(f\" {service.title()} by {vendor['name']} will cost: ₹{cost}\")\n",
    "    else:\n",
    "        print(f\"Oops! '{service}' is not in our service list.\")\n",
    "\n",
    "print(f\"\\n Total Estimated Cost: ₹{estimated_cost}\")\n",
    "print(f\" Your Budget: ₹{your_budget}\")\n",
    "\n",
    "#  Step 4: Try to Negotiate If Over Budget\n",
    "if estimated_cost <= your_budget:\n",
    "    print(\"\\n Awesome! Your event is within the budget. No need to negotiate. \")\n",
    "else:\n",
    "    print(\"\\n Oh no! Looks like the cost is higher than your budget.\")\n",
    "    choice = input(\"Would you like me to try negotiating with the vendors? (yes/no): \").strip().lower()\n",
    "    \n",
    "    if choice == \"yes\":\n",
    "        print(\"\\n Negotiating with vendors... please wait...\\n\")\n",
    "        new_total = 0\n",
    "        for service in services_needed:\n",
    "            if service in vendors:\n",
    "                vendor = vendors[service]\n",
    "                if service == \"catering\":\n",
    "                    cost = vendor[\"min_price_per_guest\"] * guests\n",
    "                else:\n",
    "                    cost = vendor[\"min_price\"]\n",
    "                new_total += cost\n",
    "                print(f\" {service.title()} by {vendor['name']} after negotiation: ₹{cost}\")\n",
    "        \n",
    "        print(f\"\\n Negotiated Total Cost: ₹{new_total}\")\n",
    "        \n",
    "        if new_total <= your_budget:\n",
    "            print(\" Woohoo! We negotiated a deal within your budget! \")\n",
    "        else:\n",
    "            print(\" Sorry! Even after negotiation, it’s still over budget. We tried our best \")\n",
    "    else:\n",
    "        print(\" Okay! No worries. We’ll keep the original prices.\")\n"
   ]
  },
  {
   "cell_type": "code",
   "execution_count": null,
   "id": "8e67270f-496e-47ae-a84b-7d80c60e0dfd",
   "metadata": {},
   "outputs": [],
   "source": []
  }
 ],
 "metadata": {
  "kernelspec": {
   "display_name": "Python 3 (ipykernel)",
   "language": "python",
   "name": "python3"
  },
  "language_info": {
   "codemirror_mode": {
    "name": "ipython",
    "version": 3
   },
   "file_extension": ".py",
   "mimetype": "text/x-python",
   "name": "python",
   "nbconvert_exporter": "python",
   "pygments_lexer": "ipython3",
   "version": "3.12.4"
  }
 },
 "nbformat": 4,
 "nbformat_minor": 5
}
